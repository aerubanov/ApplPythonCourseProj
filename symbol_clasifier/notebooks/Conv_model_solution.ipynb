{
 "cells": [
  {
   "cell_type": "code",
   "execution_count": 1,
   "metadata": {},
   "outputs": [
    {
     "name": "stderr",
     "output_type": "stream",
     "text": [
      "Using TensorFlow backend.\n"
     ]
    }
   ],
   "source": [
    "import pickle\n",
    "import pandas as pd\n",
    "import numpy as np\n",
    "import tensorflow as tf\n",
    "from tensorflow import keras\n",
    "import matplotlib.pyplot as plt\n",
    "from keras.models import Sequential,Model\n",
    "from keras.layers import Dense, Input, Flatten, Conv2D, MaxPooling2D"
   ]
  },
  {
   "cell_type": "code",
   "execution_count": 14,
   "metadata": {},
   "outputs": [],
   "source": [
    "x_train = pd.read_pickle(\"/home/francuz-v/CROHME_extractor/outputs/x_train.pickle\")\n",
    "y_train = pd.read_pickle(\"/home/francuz-v/CROHME_extractor/outputs/y_train.pickle\")"
   ]
  },
  {
   "cell_type": "code",
   "execution_count": 15,
   "metadata": {},
   "outputs": [],
   "source": [
    "classes_num = y_train.shape[1]"
   ]
  },
  {
   "cell_type": "code",
   "execution_count": 21,
   "metadata": {},
   "outputs": [],
   "source": [
    "model = Sequential()\n",
    "\n",
    "model.add(Conv2D(32, kernel_size=6, activation='relu', input_shape=(34, 34, 1)))\n",
    "model.add(MaxPooling2D(pool_size=2))\n",
    "model.add(Conv2D(32, kernel_size=3, activation='relu'))\n",
    "model.add(Flatten())\n",
    "model.add(Dense(classes_num, activation='softmax'))"
   ]
  },
  {
   "cell_type": "code",
   "execution_count": 2,
   "metadata": {},
   "outputs": [],
   "source": [
    "x_test = pd.read_pickle(\"/home/francuz-v/CROHME_extractor/outputs/x_test.pickle\")\n",
    "y_test = pd.read_pickle(\"/home/francuz-v/CROHME_extractor/outputs/y_test.pickle\")"
   ]
  },
  {
   "cell_type": "code",
   "execution_count": 23,
   "metadata": {},
   "outputs": [],
   "source": [
    "model.compile(loss='categorical_crossentropy', optimizer='adam', metrics=['accuracy'])"
   ]
  },
  {
   "cell_type": "code",
   "execution_count": 24,
   "metadata": {},
   "outputs": [
    {
     "name": "stdout",
     "output_type": "stream",
     "text": [
      "Train on 150000 samples, validate on 11576 samples\n",
      "Epoch 1/5\n",
      "150000/150000 [==============================] - 230s 2ms/step - loss: 0.9004 - accuracy: 0.7497 - val_loss: 0.6128 - val_accuracy: 0.8251\n",
      "Epoch 2/5\n",
      "150000/150000 [==============================] - 247s 2ms/step - loss: 0.4152 - accuracy: 0.8694 - val_loss: 0.5564 - val_accuracy: 0.8476\n",
      "Epoch 3/5\n",
      "150000/150000 [==============================] - 240s 2ms/step - loss: 0.2960 - accuracy: 0.9054 - val_loss: 0.5546 - val_accuracy: 0.8526\n",
      "Epoch 4/5\n",
      "150000/150000 [==============================] - 247s 2ms/step - loss: 0.2285 - accuracy: 0.9261 - val_loss: 0.5900 - val_accuracy: 0.8436\n",
      "Epoch 5/5\n",
      "150000/150000 [==============================] - 240s 2ms/step - loss: 0.1890 - accuracy: 0.9376 - val_loss: 0.5940 - val_accuracy: 0.8503\n"
     ]
    },
    {
     "data": {
      "text/plain": [
       "<keras.callbacks.callbacks.History at 0x7f49c5bfffd0>"
      ]
     },
     "execution_count": 24,
     "metadata": {},
     "output_type": "execute_result"
    }
   ],
   "source": [
    "model.fit(x_train, y_train, batch_size=256, epochs=5, validation_data=(x_test, y_test))"
   ]
  },
  {
   "cell_type": "code",
   "execution_count": 25,
   "metadata": {},
   "outputs": [],
   "source": [
    "with open('model_34_filt6.obj', 'wb') as f:\n",
    "    pickle.dump(model, f)"
   ]
  },
  {
   "cell_type": "code",
   "execution_count": 3,
   "metadata": {},
   "outputs": [],
   "source": [
    "with open('model34.obj', 'rb') as f:\n",
    "    model1 = pickle.load(f)\n",
    "with open('model_34_filt5.obj', 'rb') as f:\n",
    "    model2 = pickle.load(f)\n",
    "with open('model_34_filt6.obj', 'rb') as f:\n",
    "    model3 = pickle.load(f)"
   ]
  },
  {
   "cell_type": "code",
   "execution_count": 4,
   "metadata": {},
   "outputs": [],
   "source": [
    "y_1 = model1.predict(x_test)\n",
    "y_2 = model2.predict(x_test)\n",
    "y_3 = model3.predict(x_test)"
   ]
  },
  {
   "cell_type": "code",
   "execution_count": 5,
   "metadata": {},
   "outputs": [],
   "source": [
    "from model_assembly import Model_Assembly"
   ]
  },
  {
   "cell_type": "code",
   "execution_count": 6,
   "metadata": {},
   "outputs": [],
   "source": [
    "model_a = Model_Assembly()"
   ]
  },
  {
   "cell_type": "code",
   "execution_count": 7,
   "metadata": {},
   "outputs": [],
   "source": [
    "prediction = model_a.predict(x_test)"
   ]
  },
  {
   "cell_type": "code",
   "execution_count": 14,
   "metadata": {},
   "outputs": [
    {
     "data": {
      "text/plain": [
       "array([54, 93, 63,  8,  5, 41,  1,  5, 97, 10,  5, 93,  2,  5, 10, 93, 98,\n",
       "       96,  2, 14])"
      ]
     },
     "execution_count": 14,
     "metadata": {},
     "output_type": "execute_result"
    }
   ],
   "source": [
    "prediction[0:20]"
   ]
  },
  {
   "cell_type": "code",
   "execution_count": 8,
   "metadata": {},
   "outputs": [],
   "source": [
    "result1 = []\n",
    "for i in range(x_test.shape[0]):\n",
    "    result1.append(np.argmax(y_1[i]))"
   ]
  },
  {
   "cell_type": "code",
   "execution_count": 9,
   "metadata": {},
   "outputs": [
    {
     "data": {
      "text/plain": [
       "[54, 93, 63, 8, 5, 41, 1, 5, 97, 10, 5, 3, 2, 5, 10, 93, 98, 96, 2, 14]"
      ]
     },
     "execution_count": 9,
     "metadata": {},
     "output_type": "execute_result"
    }
   ],
   "source": [
    "result1[:20]"
   ]
  },
  {
   "cell_type": "code",
   "execution_count": 10,
   "metadata": {},
   "outputs": [],
   "source": [
    "result2 = []\n",
    "for i in range(x_test.shape[0]):\n",
    "    result2.append(np.argmax(y_2[i]))"
   ]
  },
  {
   "cell_type": "code",
   "execution_count": 11,
   "metadata": {},
   "outputs": [
    {
     "data": {
      "text/plain": [
       "[54, 93, 63, 88, 5, 41, 1, 5, 97, 10, 5, 93, 2, 5, 10, 93, 36, 96, 4, 14]"
      ]
     },
     "execution_count": 11,
     "metadata": {},
     "output_type": "execute_result"
    }
   ],
   "source": [
    "result2[:20]"
   ]
  },
  {
   "cell_type": "code",
   "execution_count": 12,
   "metadata": {},
   "outputs": [
    {
     "data": {
      "text/plain": [
       "[54, 93, 63, 8, 5, 41, 1, 5, 97, 10, 5, 93, 2, 5, 10, 93, 98, 96, 2, 14]"
      ]
     },
     "execution_count": 12,
     "metadata": {},
     "output_type": "execute_result"
    }
   ],
   "source": [
    "result3 = []\n",
    "for i in range(x_test.shape[0]):\n",
    "    result3.append(np.argmax(y_3[i]))\n",
    "result3[:20]"
   ]
  },
  {
   "cell_type": "code",
   "execution_count": 13,
   "metadata": {},
   "outputs": [
    {
     "data": {
      "text/plain": [
       "[54, 93, 63, 8, 5, 41, 1, 5, 97, 10, 5, 93, 2, 5, 10, 93, 36, 87, 2, 1]"
      ]
     },
     "execution_count": 13,
     "metadata": {},
     "output_type": "execute_result"
    }
   ],
   "source": [
    "true_y = []\n",
    "for i in range(x_test.shape[0]):\n",
    "    true_y.append(list(y_test.iloc[i]).index(1))\n",
    "true_y[:20]"
   ]
  },
  {
   "cell_type": "code",
   "execution_count": 23,
   "metadata": {},
   "outputs": [
    {
     "name": "stdout",
     "output_type": "stream",
     "text": [
      "[67, 87, 84, 99, 9, 84, 15, 5, 9, 10, 1, 87, 70, 3, 87, 2, 40, 3, 39, 1]\n",
      "[67, 86, 84, 10, 9, 90, 74, 5, 9, 10, 1, 81, 70, 3, 87, 2, 89, 3, 39, 9]\n",
      "[18, 87, 93, 10, 9, 90, 26, 5, 9, 10, 1, 86, 10, 3, 87, 2, 89, 3, 39, 9]\n",
      "[67 87 84 10  9 90 15  5  9 10  1 87 70  3 87  2 89  3 39  9]\n",
      "[67, 87, 84, 18, 9, 84, 18, 5, 9, 10, 1, 87, 10, 3, 87, 2, 40, 3, 39, 1]\n"
     ]
    }
   ],
   "source": [
    "print(result1[20:40])\n",
    "print(result2[20:40])\n",
    "print(result3[20:40])\n",
    "print(prediction[20:40])\n",
    "print(true_y[20:40])"
   ]
  },
  {
   "cell_type": "code",
   "execution_count": null,
   "metadata": {},
   "outputs": [],
   "source": [
    "symbol_dict = {}\n",
    "with open('../classes.txt', 'r') as f:\n",
    "    i = 0\n",
    "    for line in f:\n",
    "        symbol_dict[i] = line.strip()\n",
    "        i += 1"
   ]
  },
  {
   "cell_type": "code",
   "execution_count": null,
   "metadata": {},
   "outputs": [],
   "source": [
    "symbol_dict"
   ]
  },
  {
   "cell_type": "code",
   "execution_count": null,
   "metadata": {},
   "outputs": [],
   "source": [
    "for i in range(df.shape[0]):\n",
    "    df['label'][i] = list(test_data[i]['label']).index(1)"
   ]
  },
  {
   "cell_type": "code",
   "execution_count": null,
   "metadata": {},
   "outputs": [],
   "source": [
    "df.head()"
   ]
  },
  {
   "cell_type": "code",
   "execution_count": null,
   "metadata": {},
   "outputs": [],
   "source": [
    "class_s = df[df['label'] == 62]"
   ]
  },
  {
   "cell_type": "code",
   "execution_count": null,
   "metadata": {},
   "outputs": [],
   "source": [
    "class_s.shape"
   ]
  },
  {
   "cell_type": "code",
   "execution_count": null,
   "metadata": {},
   "outputs": [],
   "source": [
    "plt.figure(figsize=(10,10))\n",
    "j = 0\n",
    "for i in class_s.index:\n",
    "    plt.subplot(10,5,j+1)\n",
    "    j += 1\n",
    "    plt.xticks([])\n",
    "    plt.yticks([])\n",
    "    plt.grid(False)\n",
    "    plt.imshow(class_s['features'][i].reshape((28,28)), cmap=plt.cm.binary)\n",
    "    #plt.xlabel(class_s[i]['label']) # number of class"
   ]
  },
  {
   "cell_type": "code",
   "execution_count": null,
   "metadata": {},
   "outputs": [],
   "source": [
    "model.save('symbol_classifier_conv.h5')"
   ]
  },
  {
   "cell_type": "code",
   "execution_count": null,
   "metadata": {},
   "outputs": [],
   "source": [
    "model_saved = keras.models.load_model('symbol_classifier.h5')"
   ]
  },
  {
   "cell_type": "code",
   "execution_count": null,
   "metadata": {},
   "outputs": [],
   "source": [
    "model_saved.summary()"
   ]
  },
  {
   "cell_type": "code",
   "execution_count": null,
   "metadata": {},
   "outputs": [],
   "source": [
    "loss, acc = model_saved.evaluate(x_train[:1000], y_train[:1000])"
   ]
  },
  {
   "cell_type": "code",
   "execution_count": null,
   "metadata": {},
   "outputs": [],
   "source": [
    "loss, acc = model_saved.evaluate(x_test[2849:], y_test[2849:])"
   ]
  },
  {
   "cell_type": "code",
   "execution_count": null,
   "metadata": {},
   "outputs": [],
   "source": []
  }
 ],
 "metadata": {
  "kernelspec": {
   "display_name": "Python 3",
   "language": "python",
   "name": "python3"
  },
  "language_info": {
   "codemirror_mode": {
    "name": "ipython",
    "version": 3
   },
   "file_extension": ".py",
   "mimetype": "text/x-python",
   "name": "python",
   "nbconvert_exporter": "python",
   "pygments_lexer": "ipython3",
   "version": "3.7.3"
  }
 },
 "nbformat": 4,
 "nbformat_minor": 2
}
